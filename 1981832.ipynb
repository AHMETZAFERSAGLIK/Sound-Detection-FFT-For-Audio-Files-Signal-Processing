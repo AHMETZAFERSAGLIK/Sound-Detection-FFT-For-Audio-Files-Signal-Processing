{
  "nbformat": 4,
  "nbformat_minor": 0,
  "metadata": {
    "colab": {
      "name": "signal.ipynb",
      "provenance": [],
      "collapsed_sections": []
    },
    "kernelspec": {
      "name": "python3",
      "display_name": "Python 3"
    }
  },
  "cells": [
    {
      "cell_type": "code",
      "metadata": {
        "id": "pM7nTyZS9vrc",
        "colab_type": "code",
        "outputId": "3bc1de52-1e3d-4767-f29d-359717b6c503",
        "colab": {
          "base_uri": "https://localhost:8080/",
          "height": 153
        }
      },
      "source": [
        "import numpy as np\n",
        "import scipy\n",
        "from google.colab import files\n",
        "from scipy.io import wavfile\n",
        "fs, data = wavfile.read(\"ilber_5.wav\")\n",
        "fs, data2 = wavfile.read(\"esg_35.wav\")\n",
        "import matplotlib.pyplot as plt\n",
        "print(data)\n",
        "ilber = data[:,1]\n",
        "esg = data2[:,1]\n",
        "print(data0)\n"
      ],
      "execution_count": 0,
      "outputs": [
        {
          "output_type": "stream",
          "text": [
            "[[ 192  192]\n",
            " [ 157  157]\n",
            " [ 116  116]\n",
            " ...\n",
            " [-648 -648]\n",
            " [-879 -879]\n",
            " [-889 -889]]\n",
            "[-585 -581 -596 ...  205  248  930]\n"
          ],
          "name": "stdout"
        }
      ]
    },
    {
      "cell_type": "code",
      "metadata": {
        "id": "BNpM5L7uHCHV",
        "colab_type": "code",
        "outputId": "bcfc3c37-b40b-452e-b4c7-107a0972e3e8",
        "colab": {
          "base_uri": "https://localhost:8080/",
          "height": 282
        }
      },
      "source": [
        "#Part 1 (ilber)\n",
        "\n",
        "ilber_max=ilber/max(abs(ilber))\n",
        "ilber_magni=np.fft.fft(ilber_max)\n",
        "plt.figure()\n",
        "ilber_son=np.abs(ilber_magni)\n",
        "plt.plot(ilber_son)\n",
        "\n",
        "\n"
      ],
      "execution_count": 0,
      "outputs": [
        {
          "output_type": "execute_result",
          "data": {
            "text/plain": [
              "[<matplotlib.lines.Line2D at 0x7fc4cb8f5dd8>]"
            ]
          },
          "metadata": {
            "tags": []
          },
          "execution_count": 87
        },
        {
          "output_type": "display_data",
          "data": {
            "image/png": "[encoded data removed]",
            "text/plain": [
              "<Figure size 432x288 with 1 Axes>"
            ]
          },
          "metadata": {
            "tags": [],
            "needs_background": "light"
          }
        }
      ]
    },
    {
      "cell_type": "code",
      "metadata": {
        "id": "JMHzerXRGPRy",
        "colab_type": "code",
        "outputId": "da91661f-7ec9-4d2a-e3f3-df1e17cd34a7",
        "colab": {
          "base_uri": "https://localhost:8080/",
          "height": 282
        }
      },
      "source": [
        "#Part 1 (Esg)\n",
        "\n",
        "esg_max=esg/max(abs(esg))\n",
        "magni_esg=np.fft.fft(esg_max)\n",
        "\n",
        "plt.figure()\n",
        "esg_son=np.abs(magni_esg)\n",
        "plt.plot(esg_son)\n"
      ],
      "execution_count": 0,
      "outputs": [
        {
          "output_type": "execute_result",
          "data": {
            "text/plain": [
              "[<matplotlib.lines.Line2D at 0x7fc4cb93d0f0>]"
            ]
          },
          "metadata": {
            "tags": []
          },
          "execution_count": 88
        },
        {
          "output_type": "display_data",
          "data": {
            "image/png": "[encoded data removed]",
            "text/plain": [
              "<Figure size 432x288 with 1 Axes>"
            ]
          },
          "metadata": {
            "tags": [],
            "needs_background": "light"
          }
        }
      ]
    },
    {
      "cell_type": "code",
      "metadata": {
        "id": "txZLyyz0d3YO",
        "colab_type": "code",
        "outputId": "6e2c2a0d-368a-4369-91e6-0af331713dd6",
        "colab": {
          "base_uri": "https://localhost:8080/",
          "height": 68
        }
      },
      "source": [
        "#Part2\n",
        "indices = np.arange(50000,100000)\n",
        "\n",
        "ilber_sum=ilber_son[indices].sum()\n",
        "print(ilber_sum)\n",
        "test1=ilber_sum\n",
        "\n",
        "esg_sum=esg_son[indices].sum()\n",
        "print(esg_sum)\n",
        "test2=esg_sum\n",
        "\n",
        "\n",
        "\n",
        "if(test1>100000):\n",
        "  print(\"İlber Ortaylı\")\n",
        "else:\n",
        "  print(\"Emrah Safa Gurkan\")\n",
        "\n",
        "\n",
        "#İt was easy because the spread of the charts are different.I sum up between 50000 and 100000 indexis.\n",
        "#ilbers low and slow voice always has higher sum.And Esg has lowe sum so it works."
      ],
      "execution_count": 0,
      "outputs": [
        {
          "output_type": "stream",
          "text": [
            "202938.33717742475\n",
            "43264.81399759464\n",
            "İlber Ortaylı\n"
          ],
          "name": "stdout"
        }
      ]
    }
  ]
}